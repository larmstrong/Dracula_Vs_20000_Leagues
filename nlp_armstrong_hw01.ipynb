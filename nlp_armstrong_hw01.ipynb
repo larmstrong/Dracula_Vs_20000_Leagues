{
 "nbformat": 4,
 "nbformat_minor": 2,
 "metadata": {
  "language_info": {
   "name": "python",
   "codemirror_mode": {
    "name": "ipython",
    "version": 3
   },
   "version": "3.7.6-final"
  },
  "orig_nbformat": 2,
  "file_extension": ".py",
  "mimetype": "text/x-python",
  "name": "python",
  "npconvert_exporter": "python",
  "pygments_lexer": "ipython3",
  "version": 3,
  "kernelspec": {
   "name": "python37664bitbae6897f10d145db9c815184f4a7deb9",
   "display_name": "Python 3.7.6 64-bit"
  }
 },
 "cells": [
  {
   "cell_type": "markdown",
   "metadata": {},
   "source": [
    "# Assignment 01\n",
    "## IST 664 - Natural Language Processing\n",
    "## Leonard Armstrong"
   ],
   "execution_count": null,
   "outputs": []
  },
  {
   "cell_type": "code",
   "execution_count": 170,
   "metadata": {},
   "outputs": [],
   "source": [
    "#--------------------------------------------------------------------------------------------------\n",
    "# Library Imports\n",
    "\n",
    "import config\n",
    "\n",
    "import nltk\n",
    "import pandas as pd \n",
    "import pathlib as pl"
   ]
  },
  {
   "cell_type": "code",
   "execution_count": 173,
   "metadata": {},
   "outputs": [],
   "source": [
    "#--------------------------------------------------------------------------------------------------\n",
    "# Load Corpus Data\n",
    "# Our corpus may (does) have more than the required two documents. So we use configurations to \n",
    "\n",
    "# Create a path to the data/corpus catalog file. This file is a CSV that contains title, author,\n",
    "# genre, year of publication and location of the text for every document in the available corpus.\n",
    "corpus_catalog_fpath = pl.Path(config.CORPUS_DPATH_REL, config.CORPUS_DIRECTORY_FNAME)\n",
    "\n",
    "# Read the corpus catalog\n",
    "corpus_catalog = pd.read_csv(corpus_catalog_fpath, index_col='Key')\n",
    "\n",
    "# Create the full file paths to the selected documents\n",
    "corpus_catalog['FilePath'] = [pl.Path(config.CORPUS_DPATH_REL, f) for f in corpus_catalog.FileName]\n",
    "\n",
    "# Subset the corpus to just the items to be compared.\n",
    "query_str = f'Key in (\"{config.DOC1_KEY}\", \"{config.DOC2_KEY}\")'\n",
    "comparison_catalog = corpus_catalog.query(qstring)\n",
    "\n",
    "# Read the text for the subset of files of interest, storing the text and the length of the text\n",
    "# back into the comparison corpus\n",
    "for k,rec in comparison_catalog.iterrows() :\n",
    "    with open(rec['FilePath'], \"r\") as f :\n",
    "        txt = f.read()\n",
    "        comparison_catalog.at[k, 'Text'] = txt\n",
    "        comparison_catalog.at[k, \"Length\"] = len(txt)\n",
    "        f.close()"
   ]
  },
  {
   "cell_type": "code",
   "execution_count": 174,
   "metadata": {},
   "outputs": [
    {
     "output_type": "execute_result",
     "data": {
      "text/plain": "                                     Title       Author      Genre  Year  \\\nKey                                                                        \ndracula                            Dracula  Bram Stoker     Horror  1897   \n20000leagues  20,000 Leagues Under the Sea  Jules Verne  Adventure  1872   \n\n                      FileName               FilePath  \\\nKey                                                     \ndracula            dracula.txt       data/dracula.txt   \n20000leagues  20000leagues.txt  data/20000leagues.txt   \n\n                                                           Text    Length  \nKey                                                                        \ndracula       ﻿                                DRACULA\\n\\n\\n...  845424.0  \n20000leagues  \\nTWENTY THOUSAND LEAGUES UNDER THE SEA\\n\\n\\nb...  589721.0  ",
      "text/html": "<div>\n<style scoped>\n    .dataframe tbody tr th:only-of-type {\n        vertical-align: middle;\n    }\n\n    .dataframe tbody tr th {\n        vertical-align: top;\n    }\n\n    .dataframe thead th {\n        text-align: right;\n    }\n</style>\n<table border=\"1\" class=\"dataframe\">\n  <thead>\n    <tr style=\"text-align: right;\">\n      <th></th>\n      <th>Title</th>\n      <th>Author</th>\n      <th>Genre</th>\n      <th>Year</th>\n      <th>FileName</th>\n      <th>FilePath</th>\n      <th>Text</th>\n      <th>Length</th>\n    </tr>\n    <tr>\n      <th>Key</th>\n      <th></th>\n      <th></th>\n      <th></th>\n      <th></th>\n      <th></th>\n      <th></th>\n      <th></th>\n      <th></th>\n    </tr>\n  </thead>\n  <tbody>\n    <tr>\n      <th>dracula</th>\n      <td>Dracula</td>\n      <td>Bram Stoker</td>\n      <td>Horror</td>\n      <td>1897</td>\n      <td>dracula.txt</td>\n      <td>data/dracula.txt</td>\n      <td>﻿                                DRACULA\\n\\n\\n...</td>\n      <td>845424.0</td>\n    </tr>\n    <tr>\n      <th>20000leagues</th>\n      <td>20,000 Leagues Under the Sea</td>\n      <td>Jules Verne</td>\n      <td>Adventure</td>\n      <td>1872</td>\n      <td>20000leagues.txt</td>\n      <td>data/20000leagues.txt</td>\n      <td>\\nTWENTY THOUSAND LEAGUES UNDER THE SEA\\n\\n\\nb...</td>\n      <td>589721.0</td>\n    </tr>\n  </tbody>\n</table>\n</div>"
     },
     "metadata": {},
     "execution_count": 174
    }
   ],
   "source": [
    "#--------------------------------------------------------------------------------------------------\n",
    "# Tokenize the comparison docs\n",
    "\n",
    "toks = comparison_catalog"
   ]
  },
  {
   "cell_type": "code",
   "execution_count": null,
   "metadata": {},
   "outputs": [],
   "source": []
  },
  {
   "cell_type": "code",
   "execution_count": null,
   "metadata": {},
   "outputs": [],
   "source": []
  },
  {
   "cell_type": "code",
   "execution_count": null,
   "metadata": {},
   "outputs": [],
   "source": []
  }
 ]
}